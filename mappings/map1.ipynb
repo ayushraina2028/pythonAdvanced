{
 "cells": [
  {
   "cell_type": "code",
   "execution_count": 3,
   "metadata": {},
   "outputs": [
    {
     "name": "stdout",
     "output_type": "stream",
     "text": [
      "20\n",
      "30\n",
      "40\n",
      "50\n",
      "60\n"
     ]
    }
   ],
   "source": [
    "new_list = [10,20,30,40,50]\n",
    "\n",
    "def addition(n):\n",
    "    return n+10\n",
    "\n",
    "my_list = map(addition, new_list)\n",
    "# currently my_list is a object, i need to iterate over it to get the values in it\n",
    "\n",
    "for i in my_list:\n",
    "    print(i)  #see working perfect"
   ]
  },
  {
   "cell_type": "code",
   "execution_count": 6,
   "metadata": {},
   "outputs": [
    {
     "name": "stdout",
     "output_type": "stream",
     "text": [
      "('apple saebb', 'banana kelaa')\n"
     ]
    }
   ],
   "source": [
    "# we can pass more iterables also\n",
    "def adding(x, y):\n",
    "    return x+y\n",
    "\n",
    "my_list = map(adding, ('apple', 'banana'), (' saebb', ' kelaa'))\n",
    "print(tuple(my_list)) # working fine"
   ]
  },
  {
   "cell_type": "code",
   "execution_count": 10,
   "metadata": {},
   "outputs": [
    {
     "name": "stdout",
     "output_type": "stream",
     "text": [
      "<map object at 0x7f571c38b820>\n",
      "[1, 8, 27, 64, 125]\n"
     ]
    }
   ],
   "source": [
    "# using of lambda functions\n",
    "new_list = [1,2,3,4,5]\n",
    "cubes = map(lambda x : x**3, new_list)\n",
    "print(cubes)\n",
    "\n",
    "#iterate over\n",
    "print(list(cubes))"
   ]
  },
  {
   "cell_type": "code",
   "execution_count": 13,
   "metadata": {},
   "outputs": [
    {
     "name": "stdout",
     "output_type": "stream",
     "text": [
      "<map object at 0x7f571c1b80a0>\n",
      "[300, 1000, 1800]\n"
     ]
    }
   ],
   "source": [
    "# we can pass multiple parameters to lambda functions\n",
    "numbers1 = [10, 20, 30]\n",
    "numbers2 = [30, 50, 60]\n",
    "\n",
    "new_result = map(lambda x, y : x * y, numbers1, numbers2) \n",
    "print(new_result)\n",
    "print(list(new_result))"
   ]
  },
  {
   "cell_type": "code",
   "execution_count": null,
   "metadata": {},
   "outputs": [],
   "source": []
  }
 ],
 "metadata": {
  "kernelspec": {
   "display_name": "Python 3",
   "language": "python",
   "name": "python3"
  },
  "language_info": {
   "codemirror_mode": {
    "name": "ipython",
    "version": 3
   },
   "file_extension": ".py",
   "mimetype": "text/x-python",
   "name": "python",
   "nbconvert_exporter": "python",
   "pygments_lexer": "ipython3",
   "version": "3.10.12"
  },
  "orig_nbformat": 4
 },
 "nbformat": 4,
 "nbformat_minor": 2
}
