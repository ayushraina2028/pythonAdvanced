{
 "cells": [
  {
   "cell_type": "code",
   "execution_count": 1,
   "metadata": {},
   "outputs": [],
   "source": [
    "# A sub class that is used to maintain the insertion order\n",
    "# regular dictionary does not track the insertion order\n"
   ]
  },
  {
   "cell_type": "code",
   "execution_count": 4,
   "metadata": {},
   "outputs": [
    {
     "data": {
      "text/plain": [
       "{'apple': 3, 'banana': 7, 'cheery': 4}"
      ]
     },
     "execution_count": 4,
     "metadata": {},
     "output_type": "execute_result"
    }
   ],
   "source": [
    "from collections import OrderedDict\n",
    "\n",
    "# Normal dictionary\n",
    "new_dict = {\"apple\" : 3, \"banana\" : 7, \"cheery\" : 4}\n",
    "new_dict"
   ]
  },
  {
   "cell_type": "code",
   "execution_count": 5,
   "metadata": {},
   "outputs": [
    {
     "name": "stdout",
     "output_type": "stream",
     "text": [
      "OrderedDict()\n"
     ]
    }
   ],
   "source": [
    "# empty ordered dict\n",
    "new_orderedDict = OrderedDict()\n",
    "print(new_orderedDict)"
   ]
  },
  {
   "cell_type": "code",
   "execution_count": 6,
   "metadata": {},
   "outputs": [
    {
     "name": "stdout",
     "output_type": "stream",
     "text": [
      "OrderedDict([('apple', 3), ('banana', 7), ('cheery', 4)])\n"
     ]
    }
   ],
   "source": [
    "# we can pass our normal dictionary as a parameter to get an ordered dict\n",
    "new_orderedDict = OrderedDict(new_dict)\n",
    "print(new_orderedDict)"
   ]
  },
  {
   "cell_type": "code",
   "execution_count": 7,
   "metadata": {},
   "outputs": [
    {
     "name": "stdout",
     "output_type": "stream",
     "text": [
      "OrderedDict([('apple', 3), ('banana', 7), ('cheery', 4), ('orange', 8)])\n"
     ]
    }
   ],
   "source": [
    "# adding item to dictionary\n",
    "new_orderedDict[\"orange\"] = 8\n",
    "print(new_orderedDict)"
   ]
  },
  {
   "cell_type": "code",
   "execution_count": 8,
   "metadata": {},
   "outputs": [
    {
     "name": "stdout",
     "output_type": "stream",
     "text": [
      "OrderedDict([('apple', 3), ('banana', 7), ('cheery', 4), ('orange', 10)])\n"
     ]
    }
   ],
   "source": [
    "# replace item in a dict\n",
    "new_orderedDict[\"orange\"] = 10\n",
    "print(new_orderedDict)"
   ]
  },
  {
   "cell_type": "code",
   "execution_count": 9,
   "metadata": {},
   "outputs": [
    {
     "name": "stdout",
     "output_type": "stream",
     "text": [
      "OrderedDict([('apple', 3), ('cheery', 4), ('orange', 10)])\n"
     ]
    }
   ],
   "source": [
    "# delete values\n",
    "new_orderedDict.pop(\"banana\")\n",
    "print(new_orderedDict)"
   ]
  },
  {
   "cell_type": "code",
   "execution_count": 10,
   "metadata": {},
   "outputs": [
    {
     "name": "stdout",
     "output_type": "stream",
     "text": [
      "OrderedDict([('cheery', 4), ('orange', 10), ('apple', 3)])\n"
     ]
    }
   ],
   "source": [
    "# to move the parameters means to permute them\n",
    "new_orderedDict.move_to_end(\"apple\")\n",
    "print(new_orderedDict)"
   ]
  },
  {
   "cell_type": "code",
   "execution_count": 11,
   "metadata": {},
   "outputs": [
    {
     "name": "stdout",
     "output_type": "stream",
     "text": [
      "apple\n",
      "orange\n",
      "cheery\n"
     ]
    }
   ],
   "source": [
    "# reverse iteration\n",
    "for i in reversed(new_orderedDict):\n",
    "    print(i)"
   ]
  },
  {
   "cell_type": "code",
   "execution_count": null,
   "metadata": {},
   "outputs": [],
   "source": []
  }
 ],
 "metadata": {
  "kernelspec": {
   "display_name": "Python 3",
   "language": "python",
   "name": "python3"
  },
  "language_info": {
   "codemirror_mode": {
    "name": "ipython",
    "version": 3
   },
   "file_extension": ".py",
   "mimetype": "text/x-python",
   "name": "python",
   "nbconvert_exporter": "python",
   "pygments_lexer": "ipython3",
   "version": "3.10.12"
  },
  "orig_nbformat": 4
 },
 "nbformat": 4,
 "nbformat_minor": 2
}
