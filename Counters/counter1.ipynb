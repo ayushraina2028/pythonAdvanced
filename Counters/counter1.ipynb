{
 "cells": [
  {
   "cell_type": "code",
   "execution_count": 1,
   "metadata": {},
   "outputs": [],
   "source": [
    "# A sub class inside a dictionary class\n",
    "# hold the count of each elements present in the container\n",
    "# count items in an iterable, and another counter"
   ]
  },
  {
   "cell_type": "code",
   "execution_count": 2,
   "metadata": {},
   "outputs": [
    {
     "name": "stdout",
     "output_type": "stream",
     "text": [
      "Counter({'b': 4, 'a': 3, 'c': 2})\n"
     ]
    }
   ],
   "source": [
    "from collections import Counter\n",
    "new_list = ['a', 'b', 'c', 'a', 'b', 'b', 'a', 'c', 'b']\n",
    "\n",
    "# returns key value pairs in an dictionary\n",
    "print(Counter(new_list))"
   ]
  },
  {
   "cell_type": "code",
   "execution_count": 3,
   "metadata": {},
   "outputs": [
    {
     "name": "stdout",
     "output_type": "stream",
     "text": [
      "Counter({'o': 4, ' ': 4, 't': 4, 'e': 3, 'a': 3, 'l': 2, 'c': 2, 'd': 2, 'n': 2, 'W': 1, 'm': 1, 'v': 1, 'p': 1, 'y': 1, 'h': 1, 'u': 1, 'r': 1, 'i': 1, 's': 1})\n"
     ]
    }
   ],
   "source": [
    "# We can even use this for strings\n",
    "new_str = \"Welcome to advanced python tutorials\"\n",
    "print(Counter(new_str))"
   ]
  },
  {
   "cell_type": "code",
   "execution_count": 5,
   "metadata": {},
   "outputs": [
    {
     "name": "stdout",
     "output_type": "stream",
     "text": [
      "Counter({'b': 5, 'a': 3, 'c': 2})\n"
     ]
    }
   ],
   "source": [
    "# We can even use it with dictionaries\n",
    "# Dictionaries cannot take duplicates so 4 is omitted and 5 replaced it\n",
    "new_dict = {'b': 4, 'a': 3, 'c': 2, 'b' : 5}\n",
    "print(Counter(new_dict))"
   ]
  },
  {
   "cell_type": "code",
   "execution_count": 6,
   "metadata": {},
   "outputs": [
    {
     "name": "stdout",
     "output_type": "stream",
     "text": [
      "Counter({'apple': 3, 'banana': 2, 'cherry': 2, 'fig': 1})\n"
     ]
    }
   ],
   "source": [
    "# Counters with tuples\n",
    "new_tuple = ('apple', 'banana', 'cherry', 'apple', 'apple', 'banana', 'fig', 'cherry')\n",
    "print(Counter(new_tuple))"
   ]
  },
  {
   "cell_type": "code",
   "execution_count": 7,
   "metadata": {},
   "outputs": [
    {
     "data": {
      "text/plain": [
       "Counter()"
      ]
     },
     "execution_count": 7,
     "metadata": {},
     "output_type": "execute_result"
    }
   ],
   "source": [
    "# Empty Counter \n",
    "_counting = Counter()\n",
    "_counting"
   ]
  },
  {
   "cell_type": "code",
   "execution_count": 9,
   "metadata": {},
   "outputs": [
    {
     "data": {
      "text/plain": [
       "Counter({'H': 2,\n",
       "         'i': 2,\n",
       "         ',': 2,\n",
       "         ' ': 2,\n",
       "         'A': 2,\n",
       "         'y': 2,\n",
       "         'u': 2,\n",
       "         's': 2,\n",
       "         'h': 2})"
      ]
     },
     "execution_count": 9,
     "metadata": {},
     "output_type": "execute_result"
    }
   ],
   "source": [
    "# Now see\n",
    "_counting.update(\"Hi, Ayush\")\n",
    "_counting"
   ]
  },
  {
   "cell_type": "code",
   "execution_count": 10,
   "metadata": {},
   "outputs": [
    {
     "data": {
      "text/plain": [
       "Counter({'h': 4,\n",
       "         'H': 3,\n",
       "         'i': 3,\n",
       "         ',': 3,\n",
       "         ' ': 3,\n",
       "         's': 3,\n",
       "         'A': 2,\n",
       "         'y': 2,\n",
       "         'u': 2,\n",
       "         'a': 2,\n",
       "         'e': 1,\n",
       "         'j': 1,\n",
       "         'r': 1})"
      ]
     },
     "execution_count": 10,
     "metadata": {},
     "output_type": "execute_result"
    }
   ],
   "source": [
    "# Update\n",
    "_counting.update(\"Hi, shehjaar\")\n",
    "_counting"
   ]
  },
  {
   "cell_type": "code",
   "execution_count": 12,
   "metadata": {},
   "outputs": [
    {
     "name": "stdout",
     "output_type": "stream",
     "text": [
      "Counter({'b': 5, 'a': 3, 'c': 2})\n",
      "Counter({'b': 5, 'a': 3})\n"
     ]
    }
   ],
   "source": [
    "# deletion from a counter\n",
    "print(Counter(new_dict))\n",
    "del new_dict[\"c\"]\n",
    "print(Counter(new_dict))"
   ]
  },
  {
   "cell_type": "code",
   "execution_count": null,
   "metadata": {},
   "outputs": [],
   "source": []
  }
 ],
 "metadata": {
  "kernelspec": {
   "display_name": "Python 3",
   "language": "python",
   "name": "python3"
  },
  "language_info": {
   "codemirror_mode": {
    "name": "ipython",
    "version": 3
   },
   "file_extension": ".py",
   "mimetype": "text/x-python",
   "name": "python",
   "nbconvert_exporter": "python",
   "pygments_lexer": "ipython3",
   "version": "3.10.12"
  },
  "orig_nbformat": 4
 },
 "nbformat": 4,
 "nbformat_minor": 2
}
