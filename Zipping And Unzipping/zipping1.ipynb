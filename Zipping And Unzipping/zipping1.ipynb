{
 "cells": [
  {
   "cell_type": "code",
   "execution_count": 2,
   "metadata": {},
   "outputs": [
    {
     "name": "stdout",
     "output_type": "stream",
     "text": [
      "(1, 'x')\n",
      "(2, 'y')\n",
      "(3, 'z')\n"
     ]
    }
   ],
   "source": [
    "# zip() returns a zip object( an iterator of tuples )\n",
    "# returns in the form of tuples\n",
    "for i in zip([1,2,3], ['x', 'y', 'z']):\n",
    "    print(i)"
   ]
  },
  {
   "cell_type": "code",
   "execution_count": 3,
   "metadata": {},
   "outputs": [
    {
     "data": {
      "text/plain": [
       "set()"
      ]
     },
     "execution_count": 3,
     "metadata": {},
     "output_type": "execute_result"
    }
   ],
   "source": [
    "# empty iterator\n",
    "x = set(zip())\n",
    "x"
   ]
  },
  {
   "cell_type": "code",
   "execution_count": 5,
   "metadata": {},
   "outputs": [
    {
     "name": "stdout",
     "output_type": "stream",
     "text": [
      "(10,)\n",
      "(20,)\n",
      "(30,)\n"
     ]
    }
   ],
   "source": [
    "# when second thing is not available the it comes in blank\n",
    "for i in zip([10,20,30]):\n",
    "    print(i)"
   ]
  },
  {
   "cell_type": "code",
   "execution_count": 7,
   "metadata": {},
   "outputs": [
    {
     "name": "stdout",
     "output_type": "stream",
     "text": [
      "(1, 4, 7)\n",
      "(2, 5, 8)\n",
      "(3, 6, 9)\n"
     ]
    }
   ],
   "source": [
    "# we can even give more than 2 things(iterable objects) in zip \n",
    "# it will return all of them in the form of a tuple\n",
    "for i in zip([1,2,3], [4,5,6], [7,8,9]):\n",
    "    print(i)"
   ]
  },
  {
   "cell_type": "code",
   "execution_count": 9,
   "metadata": {},
   "outputs": [
    {
     "name": "stdout",
     "output_type": "stream",
     "text": [
      "(1, 4)\n",
      "(2, 5)\n",
      "(3, 6)\n"
     ]
    }
   ],
   "source": [
    "# See it will combine only is it is possible\n",
    "for i in zip([1,2,3], [4,5,6,7,8,9]):\n",
    "    print(i)"
   ]
  },
  {
   "cell_type": "code",
   "execution_count": 14,
   "metadata": {},
   "outputs": [
    {
     "name": "stdout",
     "output_type": "stream",
     "text": [
      "(1, 4)\n",
      "(2, 5)\n",
      "(3, 6)\n",
      "(None, 7)\n",
      "(None, 8)\n",
      "(None, 9)\n"
     ]
    }
   ],
   "source": [
    "# But if you want to combine all, then we can do by placing None at missing places\n",
    "from itertools import zip_longest as zip_l\n",
    "for i in zip_l([1,2,3], [4,5,6,7,8,9]):\n",
    "    print(i)"
   ]
  },
  {
   "cell_type": "code",
   "execution_count": 16,
   "metadata": {},
   "outputs": [
    {
     "name": "stdout",
     "output_type": "stream",
     "text": [
      "(1, 2, 3) (4, 5, 6) (7, 8, 9)\n"
     ]
    }
   ],
   "source": [
    "# Unzipping can be done by giving * in argument\n",
    "# here we can take out these 3 lists(iterable objects) in 3 variable by unzipping\n",
    "zipped = zip([1,2,3], [4,5,6], [7,8,9])\n",
    "x, y, z = zip(*zipped)\n",
    "print(x,y,z)"
   ]
  },
  {
   "cell_type": "code",
   "execution_count": null,
   "metadata": {},
   "outputs": [],
   "source": []
  }
 ],
 "metadata": {
  "kernelspec": {
   "display_name": "Python 3",
   "language": "python",
   "name": "python3"
  },
  "language_info": {
   "codemirror_mode": {
    "name": "ipython",
    "version": 3
   },
   "file_extension": ".py",
   "mimetype": "text/x-python",
   "name": "python",
   "nbconvert_exporter": "python",
   "pygments_lexer": "ipython3",
   "version": "3.10.12"
  },
  "orig_nbformat": 4
 },
 "nbformat": 4,
 "nbformat_minor": 2
}
