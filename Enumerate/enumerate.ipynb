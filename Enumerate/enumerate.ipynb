{
 "cells": [
  {
   "cell_type": "code",
   "execution_count": 2,
   "metadata": {},
   "outputs": [
    {
     "name": "stdout",
     "output_type": "stream",
     "text": [
      "<class 'enumerate'>\n"
     ]
    }
   ],
   "source": [
    "names = [\"ayush\", \"raina\", \"shehjaar\", \"raina\"]\n",
    "\n",
    "# enumerate function has a paramater which is a iterable object which in this case is a list\n",
    "new_enum = enumerate(names)\n",
    "print(type(new_enum))"
   ]
  },
  {
   "cell_type": "code",
   "execution_count": 3,
   "metadata": {},
   "outputs": [
    {
     "name": "stdout",
     "output_type": "stream",
     "text": [
      "[(0, 'ayush'), (1, 'raina'), (2, 'shehjaar'), (3, 'raina')]\n"
     ]
    }
   ],
   "source": [
    "# see by printing\n",
    "print(list(new_enum))"
   ]
  },
  {
   "cell_type": "code",
   "execution_count": 4,
   "metadata": {},
   "outputs": [
    {
     "name": "stdout",
     "output_type": "stream",
     "text": [
      "[(10, 'ayush'), (11, 'raina'), (12, 'shehjaar'), (13, 'raina')]\n"
     ]
    }
   ],
   "source": [
    "# we can even set the starting index\n",
    "new_enum = enumerate(names, start = 10)\n",
    "print(list(new_enum))"
   ]
  },
  {
   "cell_type": "code",
   "execution_count": 7,
   "metadata": {},
   "outputs": [
    {
     "name": "stdout",
     "output_type": "stream",
     "text": [
      "10 ayush\n",
      "11 raina\n",
      "12 shehjaar\n",
      "13 raina\n"
     ]
    }
   ],
   "source": [
    "# iterating over this object\n",
    "for index, name in enumerate(names, start = 10):\n",
    "    print(index, name)"
   ]
  },
  {
   "cell_type": "code",
   "execution_count": null,
   "metadata": {},
   "outputs": [],
   "source": []
  },
  {
   "cell_type": "code",
   "execution_count": null,
   "metadata": {},
   "outputs": [],
   "source": []
  }
 ],
 "metadata": {
  "kernelspec": {
   "display_name": "Python 3",
   "language": "python",
   "name": "python3"
  },
  "language_info": {
   "codemirror_mode": {
    "name": "ipython",
    "version": 3
   },
   "file_extension": ".py",
   "mimetype": "text/x-python",
   "name": "python",
   "nbconvert_exporter": "python",
   "pygments_lexer": "ipython3",
   "version": "3.10.12"
  },
  "orig_nbformat": 4
 },
 "nbformat": 4,
 "nbformat_minor": 2
}
