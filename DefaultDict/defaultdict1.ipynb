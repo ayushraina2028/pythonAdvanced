{
 "cells": [
  {
   "cell_type": "code",
   "execution_count": 1,
   "metadata": {},
   "outputs": [],
   "source": [
    "# This is a sub class of dict class\n",
    "# This never raises a key error"
   ]
  },
  {
   "cell_type": "code",
   "execution_count": 2,
   "metadata": {},
   "outputs": [
    {
     "ename": "KeyError",
     "evalue": "4",
     "output_type": "error",
     "traceback": [
      "\u001b[0;31m---------------------------------------------------------------------------\u001b[0m",
      "\u001b[0;31mKeyError\u001b[0m                                  Traceback (most recent call last)",
      "Cell \u001b[0;32mIn[2], line 3\u001b[0m\n\u001b[1;32m      1\u001b[0m \u001b[39m# normal dictionary gives an error if key is not present\u001b[39;00m\n\u001b[1;32m      2\u001b[0m new_dict \u001b[39m=\u001b[39m \u001b[39mdict\u001b[39m()\n\u001b[0;32m----> 3\u001b[0m \u001b[39mprint\u001b[39m(new_dict[\u001b[39m4\u001b[39;49m])\n",
      "\u001b[0;31mKeyError\u001b[0m: 4"
     ]
    }
   ],
   "source": [
    "# normal dictionary gives an error if key is not present\n",
    "new_dict = dict()\n",
    "print(new_dict[4])"
   ]
  },
  {
   "cell_type": "code",
   "execution_count": 3,
   "metadata": {},
   "outputs": [
    {
     "name": "stdout",
     "output_type": "stream",
     "text": [
      "0\n"
     ]
    }
   ],
   "source": [
    "from collections import defaultdict\n",
    "\n",
    "# if we write int as argument, its default value is now set to zero\n",
    "new_defaultdict = defaultdict(int)\n",
    "print(new_defaultdict[5])\n"
   ]
  },
  {
   "cell_type": "code",
   "execution_count": 13,
   "metadata": {},
   "outputs": [
    {
     "name": "stdout",
     "output_type": "stream",
     "text": [
      "{'Ayush': {'Raina'}, 'Anoop': set()}\n"
     ]
    }
   ],
   "source": [
    "# we can set default value to other data types also\n",
    "new_dict = defaultdict(set)\n",
    "\n",
    "# adding elements\n",
    "new_dict[\"Ayush\"].add(\"Raina\")\n",
    "new_dict[\"Anoop\"]\n",
    "\n",
    "# we can see values of given keys are added in the form of sets \n",
    "print(dict(new_dict.items()))\n",
    "\n",
    "# You can even change set to list\n",
    "# In that case use append in place of add"
   ]
  },
  {
   "cell_type": "code",
   "execution_count": null,
   "metadata": {},
   "outputs": [],
   "source": []
  }
 ],
 "metadata": {
  "kernelspec": {
   "display_name": "Python 3",
   "language": "python",
   "name": "python3"
  },
  "language_info": {
   "codemirror_mode": {
    "name": "ipython",
    "version": 3
   },
   "file_extension": ".py",
   "mimetype": "text/x-python",
   "name": "python",
   "nbconvert_exporter": "python",
   "pygments_lexer": "ipython3",
   "version": "3.10.12"
  },
  "orig_nbformat": 4
 },
 "nbformat": 4,
 "nbformat_minor": 2
}
